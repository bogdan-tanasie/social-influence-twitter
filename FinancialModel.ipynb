{
 "cells": [
  {
   "cell_type": "markdown",
   "metadata": {
    "id": "4V4gox40yT6U"
   },
   "source": [
    "#**Financial Model**"
   ]
  },
  {
   "cell_type": "markdown",
   "metadata": {
    "id": "cZtuPP5p87gK"
   },
   "source": [
    "**Calculating predictions based on the best model i.e. XGB Classifier**"
   ]
  },
  {
   "cell_type": "code",
   "execution_count": 104,
   "metadata": {
    "id": "NHvrnlkmywGb"
   },
   "outputs": [],
   "source": [
    "y_fn = df['Choice']\n",
    "X_fn = df.drop(columns=['Choice','dAB_closeness','dAB_following','dAB_betweenness'])\n",
    "X_train, X_test, y_train, y_test = train_test_split(X_fn, y_fn, test_size=0.33, random_state=5)\n",
    "\n",
    "from xgboost.sklearn import XGBClassifier\n",
    "xgb=XGBClassifier(random_state=5, learning_rate=0.04)\n",
    "model_xgb = xgb.fit(X_train, y_train)\n",
    "y_test_pred_xgb = model_xgb.predict(X_test)"
   ]
  },
  {
   "cell_type": "markdown",
   "metadata": {
    "id": "wp3p8Tc98kDW"
   },
   "source": [
    "**Database to calculate the financial impact on the test dataset**"
   ]
  },
  {
   "cell_type": "code",
   "execution_count": 136,
   "metadata": {
    "id": "VZUleSJ72DIE"
   },
   "outputs": [],
   "source": [
    "financial_df_cal = X_test.copy()"
   ]
  },
  {
   "cell_type": "code",
   "execution_count": 137,
   "metadata": {
    "id": "_H6QZdxc1l06"
   },
   "outputs": [],
   "source": [
    "financial_df_cal['Influencer'] = np.where(y_test==1,'A','B')\n",
    "financial_df_cal['Influencer_Pred'] = np.where(y_test_pred_xgb==1,'A','B')"
   ]
  },
  {
   "cell_type": "code",
   "execution_count": 138,
   "metadata": {
    "id": "R5qVKBK490-Q"
   },
   "outputs": [],
   "source": [
    "financial_df_cal = financial_df_cal[['A_follower_count','B_follower_count','Influencer','Influencer_Pred']]"
   ]
  },
  {
   "cell_type": "code",
   "execution_count": 139,
   "metadata": {
    "colab": {
     "base_uri": "https://localhost:8080/",
     "height": 419
    },
    "id": "D9djQbVK-DwL",
    "outputId": "d36d6756-7b41-47f5-a7cb-2aa1fb4e8d35"
   },
   "outputs": [
    {
     "data": {
      "text/html": [
       "<div>\n",
       "<style scoped>\n",
       "    .dataframe tbody tr th:only-of-type {\n",
       "        vertical-align: middle;\n",
       "    }\n",
       "\n",
       "    .dataframe tbody tr th {\n",
       "        vertical-align: top;\n",
       "    }\n",
       "\n",
       "    .dataframe thead th {\n",
       "        text-align: right;\n",
       "    }\n",
       "</style>\n",
       "<table border=\"1\" class=\"dataframe\">\n",
       "  <thead>\n",
       "    <tr style=\"text-align: right;\">\n",
       "      <th></th>\n",
       "      <th>A_follower_count</th>\n",
       "      <th>B_follower_count</th>\n",
       "      <th>Influencer</th>\n",
       "      <th>Influencer_Pred</th>\n",
       "      <th>Correct_Decision</th>\n",
       "    </tr>\n",
       "  </thead>\n",
       "  <tbody>\n",
       "    <tr>\n",
       "      <th>871</th>\n",
       "      <td>454514</td>\n",
       "      <td>47006</td>\n",
       "      <td>A</td>\n",
       "      <td>A</td>\n",
       "      <td>True</td>\n",
       "    </tr>\n",
       "    <tr>\n",
       "      <th>3385</th>\n",
       "      <td>723800</td>\n",
       "      <td>750</td>\n",
       "      <td>B</td>\n",
       "      <td>A</td>\n",
       "      <td>False</td>\n",
       "    </tr>\n",
       "    <tr>\n",
       "      <th>336</th>\n",
       "      <td>598</td>\n",
       "      <td>224146</td>\n",
       "      <td>B</td>\n",
       "      <td>B</td>\n",
       "      <td>True</td>\n",
       "    </tr>\n",
       "    <tr>\n",
       "      <th>2919</th>\n",
       "      <td>5941</td>\n",
       "      <td>263614</td>\n",
       "      <td>B</td>\n",
       "      <td>B</td>\n",
       "      <td>True</td>\n",
       "    </tr>\n",
       "    <tr>\n",
       "      <th>3030</th>\n",
       "      <td>871652</td>\n",
       "      <td>1043</td>\n",
       "      <td>B</td>\n",
       "      <td>A</td>\n",
       "      <td>False</td>\n",
       "    </tr>\n",
       "    <tr>\n",
       "      <th>...</th>\n",
       "      <td>...</td>\n",
       "      <td>...</td>\n",
       "      <td>...</td>\n",
       "      <td>...</td>\n",
       "      <td>...</td>\n",
       "    </tr>\n",
       "    <tr>\n",
       "      <th>2519</th>\n",
       "      <td>119001</td>\n",
       "      <td>541611</td>\n",
       "      <td>B</td>\n",
       "      <td>B</td>\n",
       "      <td>True</td>\n",
       "    </tr>\n",
       "    <tr>\n",
       "      <th>3412</th>\n",
       "      <td>2326</td>\n",
       "      <td>3113</td>\n",
       "      <td>B</td>\n",
       "      <td>A</td>\n",
       "      <td>False</td>\n",
       "    </tr>\n",
       "    <tr>\n",
       "      <th>4939</th>\n",
       "      <td>10422587</td>\n",
       "      <td>657021</td>\n",
       "      <td>A</td>\n",
       "      <td>A</td>\n",
       "      <td>True</td>\n",
       "    </tr>\n",
       "    <tr>\n",
       "      <th>1552</th>\n",
       "      <td>3893</td>\n",
       "      <td>592</td>\n",
       "      <td>A</td>\n",
       "      <td>A</td>\n",
       "      <td>True</td>\n",
       "    </tr>\n",
       "    <tr>\n",
       "      <th>1532</th>\n",
       "      <td>11018</td>\n",
       "      <td>44034</td>\n",
       "      <td>B</td>\n",
       "      <td>B</td>\n",
       "      <td>True</td>\n",
       "    </tr>\n",
       "  </tbody>\n",
       "</table>\n",
       "<p>1772 rows × 5 columns</p>\n",
       "</div>"
      ],
      "text/plain": [
       "      A_follower_count  B_follower_count Influencer Influencer_Pred  \\\n",
       "871             454514             47006          A               A   \n",
       "3385            723800               750          B               A   \n",
       "336                598            224146          B               B   \n",
       "2919              5941            263614          B               B   \n",
       "3030            871652              1043          B               A   \n",
       "...                ...               ...        ...             ...   \n",
       "2519            119001            541611          B               B   \n",
       "3412              2326              3113          B               A   \n",
       "4939          10422587            657021          A               A   \n",
       "1552              3893               592          A               A   \n",
       "1532             11018             44034          B               B   \n",
       "\n",
       "      Correct_Decision  \n",
       "871               True  \n",
       "3385             False  \n",
       "336               True  \n",
       "2919              True  \n",
       "3030             False  \n",
       "...                ...  \n",
       "2519              True  \n",
       "3412             False  \n",
       "4939              True  \n",
       "1552              True  \n",
       "1532              True  \n",
       "\n",
       "[1772 rows x 5 columns]"
      ]
     },
     "execution_count": 139,
     "metadata": {
      "tags": []
     },
     "output_type": "execute_result"
    }
   ],
   "source": [
    "financial_df_cal['Correct_Decision'] = (financial_df_cal['Influencer'] == financial_df_cal['Influencer_Pred'])\n",
    "financial_df_cal"
   ]
  },
  {
   "cell_type": "markdown",
   "metadata": {
    "id": "ylnWk2QXAjd7"
   },
   "source": [
    "**Financial Impact (With and without Analytical model)**"
   ]
  },
  {
   "cell_type": "markdown",
   "metadata": {
    "id": "xot_BqVMA431"
   },
   "source": [
    "Information given:"
   ]
  },
  {
   "cell_type": "code",
   "execution_count": 140,
   "metadata": {
    "id": "pOxfrtI0AZhb"
   },
   "outputs": [],
   "source": [
    "profit_margin = 10\n",
    "prob_1_tweet = 0.01/100\n",
    "prob_2_tweet = 0.015/100\n",
    "cost_1_tweet = 5\n",
    "cost_2_tweet = 10"
   ]
  },
  {
   "cell_type": "markdown",
   "metadata": {
    "id": "RIKmbTnYBEMx"
   },
   "source": [
    "**Without analytical model**"
   ]
  },
  {
   "cell_type": "code",
   "execution_count": 158,
   "metadata": {
    "id": "tBm62NPHA89Z"
   },
   "outputs": [],
   "source": [
    "financial_df_cal['Without_Model'] = np.where(financial_df_cal['Influencer'] == 'A',\n",
    "                                             financial_df_cal['A_follower_count']*profit_margin*prob_1_tweet,\n",
    "                                             financial_df_cal['B_follower_count']*profit_margin*prob_1_tweet)"
   ]
  },
  {
   "cell_type": "code",
   "execution_count": 180,
   "metadata": {
    "colab": {
     "base_uri": "https://localhost:8080/"
    },
    "id": "705TkgH5HD1L",
    "outputId": "e3f701a4-50d0-4c12-d403-d795cc57914e"
   },
   "outputs": [
    {
     "data": {
      "text/plain": [
       "1667130.53"
      ]
     },
     "execution_count": 180,
     "metadata": {
      "tags": []
     },
     "output_type": "execute_result"
    }
   ],
   "source": [
    "Total_Profit_without_analytics = (financial_df_cal['Without_Model'].sum()- 2*cost_1_tweet*financial_df_cal['A_follower_count'].count())\n",
    "Total_Profit_without_analytics"
   ]
  },
  {
   "cell_type": "markdown",
   "metadata": {
    "id": "974YQrZTUol6"
   },
   "source": [
    "The total profit without using analytical model is **$1667131**"
   ]
  },
  {
   "cell_type": "markdown",
   "metadata": {
    "id": "WTl755mtCLZS"
   },
   "source": [
    "**With analytical model**"
   ]
  },
  {
   "cell_type": "code",
   "execution_count": 166,
   "metadata": {
    "id": "CknHR1l-B79D"
   },
   "outputs": [],
   "source": [
    "financial_df_cal['With_Model'] = np.where(financial_df_cal['Influencer_Pred'] == 'A',\n",
    "                                             financial_df_cal['A_follower_count']*profit_margin*prob_2_tweet,\n",
    "                                             financial_df_cal['B_follower_count']*profit_margin*prob_2_tweet)"
   ]
  },
  {
   "cell_type": "code",
   "execution_count": 178,
   "metadata": {
    "colab": {
     "base_uri": "https://localhost:8080/"
    },
    "id": "HSDHAn9SJEP8",
    "outputId": "5dd51e69-b432-4b65-9073-16112f02a968"
   },
   "outputs": [
    {
     "data": {
      "text/plain": [
       "2902674.154"
      ]
     },
     "execution_count": 178,
     "metadata": {
      "tags": []
     },
     "output_type": "execute_result"
    }
   ],
   "source": [
    "Total_Profit_with_analytics = (financial_df_cal['With_Model'].sum()- (cost_2_tweet*financial_df_cal['A_follower_count'].count()))\n",
    "Total_Profit_with_analytics"
   ]
  },
  {
   "cell_type": "markdown",
   "metadata": {
    "id": "Vpx41YLuVBcu"
   },
   "source": [
    "The total profit with analytical model is **$2902674**"
   ]
  },
  {
   "cell_type": "markdown",
   "metadata": {
    "id": "6vk-_PB8CNlk"
   },
   "source": [
    "**Model Impact**"
   ]
  },
  {
   "cell_type": "code",
   "execution_count": 182,
   "metadata": {
    "colab": {
     "base_uri": "https://localhost:8080/"
    },
    "id": "JT8dbagFJDq4",
    "outputId": "085024d5-581a-47ca-9735-a2a6f7dd7770"
   },
   "outputs": [
    {
     "data": {
      "text/plain": [
       "1235543.624"
      ]
     },
     "execution_count": 182,
     "metadata": {
      "tags": []
     },
     "output_type": "execute_result"
    }
   ],
   "source": [
    "Model_Impact = Total_Profit_with_analytics - Total_Profit_without_analytics\n",
    "Model_Impact"
   ]
  },
  {
   "cell_type": "code",
   "execution_count": 184,
   "metadata": {
    "colab": {
     "base_uri": "https://localhost:8080/"
    },
    "id": "uP-CNTF2XH1G",
    "outputId": "fa6a8057-13eb-4a15-bbfc-672d34b8881e"
   },
   "outputs": [
    {
     "data": {
      "text/plain": [
       "0.7411199073896152"
      ]
     },
     "execution_count": 184,
     "metadata": {
      "tags": []
     },
     "output_type": "execute_result"
    }
   ],
   "source": [
    "(Total_Profit_with_analytics - Total_Profit_without_analytics)/Total_Profit_without_analytics"
   ]
  },
  {
   "cell_type": "markdown",
   "metadata": {
    "id": "OC3hYnaIWC50"
   },
   "source": [
    "The financial impact in the test dataset is equal to **$ 1235544**"
   ]
  }
 ],
 "metadata": {
  "colab": {
   "name": "financial model.ipynb",
   "provenance": [],
   "toc_visible": true
  },
  "hide_input": false,
  "kernelspec": {
   "display_name": "Python 3",
   "language": "python",
   "name": "python3"
  },
  "language_info": {
   "codemirror_mode": {
    "name": "ipython",
    "version": 3
   },
   "file_extension": ".py",
   "mimetype": "text/x-python",
   "name": "python",
   "nbconvert_exporter": "python",
   "pygments_lexer": "ipython3",
   "version": "3.7.7"
  },
  "toc": {
   "base_numbering": 1,
   "nav_menu": {},
   "number_sections": true,
   "sideBar": true,
   "skip_h1_title": false,
   "title_cell": "Table of Contents",
   "title_sidebar": "Contents",
   "toc_cell": false,
   "toc_position": {},
   "toc_section_display": true,
   "toc_window_display": false
  },
  "varInspector": {
   "cols": {
    "lenName": 16,
    "lenType": 16,
    "lenVar": 40
   },
   "kernels_config": {
    "python": {
     "delete_cmd_postfix": "",
     "delete_cmd_prefix": "del ",
     "library": "var_list.py",
     "varRefreshCmd": "print(var_dic_list())"
    },
    "r": {
     "delete_cmd_postfix": ") ",
     "delete_cmd_prefix": "rm(",
     "library": "var_list.r",
     "varRefreshCmd": "cat(var_dic_list()) "
    }
   },
   "types_to_exclude": [
    "module",
    "function",
    "builtin_function_or_method",
    "instance",
    "_Feature"
   ],
   "window_display": false
  }
 },
 "nbformat": 4,
 "nbformat_minor": 1
}
