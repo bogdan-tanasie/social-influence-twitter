{
 "cells": [
  {
   "cell_type": "markdown",
   "id": "disabled-saturday",
   "metadata": {},
   "source": [
    "# Setup"
   ]
  },
  {
   "cell_type": "code",
   "execution_count": 13,
   "id": "welsh-genesis",
   "metadata": {
    "ExecuteTime": {
     "end_time": "2021-03-18T04:04:28.375427Z",
     "start_time": "2021-03-18T04:04:27.287017Z"
    }
   },
   "outputs": [],
   "source": [
    "import pandas as pd\n",
    "import networkx as nx"
   ]
  },
  {
   "cell_type": "code",
   "execution_count": 2,
   "id": "furnished-officer",
   "metadata": {
    "ExecuteTime": {
     "end_time": "2021-03-18T03:39:37.154892Z",
     "start_time": "2021-03-18T03:39:35.989201Z"
    }
   },
   "outputs": [],
   "source": [
    "users_df = pd.read_excel(r'./data/userdata.xlsx')\n",
    "network_df = pd.read_excel(r'./data/network.xlsx')"
   ]
  },
  {
   "cell_type": "code",
   "execution_count": 5,
   "id": "integrated-notice",
   "metadata": {
    "ExecuteTime": {
     "end_time": "2021-03-18T03:40:33.812130Z",
     "start_time": "2021-03-18T03:40:33.790131Z"
    }
   },
   "outputs": [
    {
     "data": {
      "text/html": [
       "<div>\n",
       "<style scoped>\n",
       "    .dataframe tbody tr th:only-of-type {\n",
       "        vertical-align: middle;\n",
       "    }\n",
       "\n",
       "    .dataframe tbody tr th {\n",
       "        vertical-align: top;\n",
       "    }\n",
       "\n",
       "    .dataframe thead th {\n",
       "        text-align: right;\n",
       "    }\n",
       "</style>\n",
       "<table border=\"1\" class=\"dataframe\">\n",
       "  <thead>\n",
       "    <tr style=\"text-align: right;\">\n",
       "      <th></th>\n",
       "      <th>user</th>\n",
       "      <th>listed</th>\n",
       "      <th>followers</th>\n",
       "    </tr>\n",
       "  </thead>\n",
       "  <tbody>\n",
       "    <tr>\n",
       "      <th>0</th>\n",
       "      <td>SportChic_</td>\n",
       "      <td>0</td>\n",
       "      <td>137</td>\n",
       "    </tr>\n",
       "    <tr>\n",
       "      <th>1</th>\n",
       "      <td>HumbleAttitude1</td>\n",
       "      <td>28</td>\n",
       "      <td>3422</td>\n",
       "    </tr>\n",
       "    <tr>\n",
       "      <th>2</th>\n",
       "      <td>kjerbellis</td>\n",
       "      <td>0</td>\n",
       "      <td>11</td>\n",
       "    </tr>\n",
       "    <tr>\n",
       "      <th>3</th>\n",
       "      <td>InfogolApp</td>\n",
       "      <td>511</td>\n",
       "      <td>32357</td>\n",
       "    </tr>\n",
       "    <tr>\n",
       "      <th>4</th>\n",
       "      <td>DukeDFS</td>\n",
       "      <td>48</td>\n",
       "      <td>2363</td>\n",
       "    </tr>\n",
       "    <tr>\n",
       "      <th>5</th>\n",
       "      <td>the12gameparlay</td>\n",
       "      <td>0</td>\n",
       "      <td>5</td>\n",
       "    </tr>\n",
       "    <tr>\n",
       "      <th>6</th>\n",
       "      <td>b0br0vsky</td>\n",
       "      <td>0</td>\n",
       "      <td>126</td>\n",
       "    </tr>\n",
       "    <tr>\n",
       "      <th>7</th>\n",
       "      <td>lookn4aFULLRIDE</td>\n",
       "      <td>3</td>\n",
       "      <td>3406</td>\n",
       "    </tr>\n",
       "    <tr>\n",
       "      <th>8</th>\n",
       "      <td>Mateusz74968284</td>\n",
       "      <td>0</td>\n",
       "      <td>0</td>\n",
       "    </tr>\n",
       "    <tr>\n",
       "      <th>9</th>\n",
       "      <td>perilofafrica</td>\n",
       "      <td>17</td>\n",
       "      <td>1070</td>\n",
       "    </tr>\n",
       "  </tbody>\n",
       "</table>\n",
       "</div>"
      ],
      "text/plain": [
       "              user  listed  followers\n",
       "0       SportChic_       0        137\n",
       "1  HumbleAttitude1      28       3422\n",
       "2       kjerbellis       0         11\n",
       "3       InfogolApp     511      32357\n",
       "4          DukeDFS      48       2363\n",
       "5  the12gameparlay       0          5\n",
       "6        b0br0vsky       0        126\n",
       "7  lookn4aFULLRIDE       3       3406\n",
       "8  Mateusz74968284       0          0\n",
       "9    perilofafrica      17       1070"
      ]
     },
     "execution_count": 5,
     "metadata": {},
     "output_type": "execute_result"
    }
   ],
   "source": [
    "users_df.head(10)"
   ]
  },
  {
   "cell_type": "code",
   "execution_count": 6,
   "id": "divine-summer",
   "metadata": {
    "ExecuteTime": {
     "end_time": "2021-03-18T03:40:33.984131Z",
     "start_time": "2021-03-18T03:40:33.969131Z"
    }
   },
   "outputs": [
    {
     "data": {
      "text/html": [
       "<div>\n",
       "<style scoped>\n",
       "    .dataframe tbody tr th:only-of-type {\n",
       "        vertical-align: middle;\n",
       "    }\n",
       "\n",
       "    .dataframe tbody tr th {\n",
       "        vertical-align: top;\n",
       "    }\n",
       "\n",
       "    .dataframe thead th {\n",
       "        text-align: right;\n",
       "    }\n",
       "</style>\n",
       "<table border=\"1\" class=\"dataframe\">\n",
       "  <thead>\n",
       "    <tr style=\"text-align: right;\">\n",
       "      <th></th>\n",
       "      <th>Source</th>\n",
       "      <th>Sourceid</th>\n",
       "      <th>Target</th>\n",
       "      <th>Targetid</th>\n",
       "      <th>type_of_content</th>\n",
       "    </tr>\n",
       "  </thead>\n",
       "  <tbody>\n",
       "    <tr>\n",
       "      <th>0</th>\n",
       "      <td>ArijitFan1</td>\n",
       "      <td>1355121831372615683</td>\n",
       "      <td>ArijitFan1</td>\n",
       "      <td>1355121831372615683</td>\n",
       "      <td>Tweet</td>\n",
       "    </tr>\n",
       "    <tr>\n",
       "      <th>1</th>\n",
       "      <td>USMNTCORNER</td>\n",
       "      <td>1172274702049583105</td>\n",
       "      <td>USMNTCORNER</td>\n",
       "      <td>1172274702049583105</td>\n",
       "      <td>Tweet</td>\n",
       "    </tr>\n",
       "    <tr>\n",
       "      <th>2</th>\n",
       "      <td>ber2reh</td>\n",
       "      <td>1207348737258987520</td>\n",
       "      <td>Benzema</td>\n",
       "      <td>1964571728</td>\n",
       "      <td>Retweet</td>\n",
       "    </tr>\n",
       "    <tr>\n",
       "      <th>3</th>\n",
       "      <td>KB9_GOAT</td>\n",
       "      <td>1339101169042518017</td>\n",
       "      <td>Benzema</td>\n",
       "      <td>1964571728</td>\n",
       "      <td>Retweet</td>\n",
       "    </tr>\n",
       "    <tr>\n",
       "      <th>4</th>\n",
       "      <td>HfutbolW</td>\n",
       "      <td>1274615075723268097</td>\n",
       "      <td>HfutbolW</td>\n",
       "      <td>1274615075723268097</td>\n",
       "      <td>Tweet</td>\n",
       "    </tr>\n",
       "    <tr>\n",
       "      <th>5</th>\n",
       "      <td>miles__69</td>\n",
       "      <td>1181660258118389760</td>\n",
       "      <td>Royaltycfc</td>\n",
       "      <td>1050069385094811648</td>\n",
       "      <td>Retweet</td>\n",
       "    </tr>\n",
       "    <tr>\n",
       "      <th>6</th>\n",
       "      <td>JudyLazo</td>\n",
       "      <td>410740338</td>\n",
       "      <td>nclarkrd</td>\n",
       "      <td>103933553</td>\n",
       "      <td>Retweet</td>\n",
       "    </tr>\n",
       "    <tr>\n",
       "      <th>7</th>\n",
       "      <td>BanglaMostbet</td>\n",
       "      <td>1287653327082315777</td>\n",
       "      <td>BanglaMostbet</td>\n",
       "      <td>1287653327082315777</td>\n",
       "      <td>Tweet</td>\n",
       "    </tr>\n",
       "    <tr>\n",
       "      <th>8</th>\n",
       "      <td>FootAggregator</td>\n",
       "      <td>1204015945422909445</td>\n",
       "      <td>Genting_Bet</td>\n",
       "      <td>4201010939</td>\n",
       "      <td>Retweet</td>\n",
       "    </tr>\n",
       "    <tr>\n",
       "      <th>9</th>\n",
       "      <td>FootAggregator</td>\n",
       "      <td>1204015945422909445</td>\n",
       "      <td>GuillemBalague</td>\n",
       "      <td>26759984</td>\n",
       "      <td>Retweet</td>\n",
       "    </tr>\n",
       "  </tbody>\n",
       "</table>\n",
       "</div>"
      ],
      "text/plain": [
       "           Source             Sourceid          Target             Targetid  \\\n",
       "0      ArijitFan1  1355121831372615683      ArijitFan1  1355121831372615683   \n",
       "1     USMNTCORNER  1172274702049583105     USMNTCORNER  1172274702049583105   \n",
       "2         ber2reh  1207348737258987520         Benzema           1964571728   \n",
       "3        KB9_GOAT  1339101169042518017         Benzema           1964571728   \n",
       "4        HfutbolW  1274615075723268097        HfutbolW  1274615075723268097   \n",
       "5       miles__69  1181660258118389760      Royaltycfc  1050069385094811648   \n",
       "6        JudyLazo            410740338        nclarkrd            103933553   \n",
       "7   BanglaMostbet  1287653327082315777   BanglaMostbet  1287653327082315777   \n",
       "8  FootAggregator  1204015945422909445     Genting_Bet           4201010939   \n",
       "9  FootAggregator  1204015945422909445  GuillemBalague             26759984   \n",
       "\n",
       "  type_of_content  \n",
       "0           Tweet  \n",
       "1           Tweet  \n",
       "2         Retweet  \n",
       "3         Retweet  \n",
       "4           Tweet  \n",
       "5         Retweet  \n",
       "6         Retweet  \n",
       "7           Tweet  \n",
       "8         Retweet  \n",
       "9         Retweet  "
      ]
     },
     "execution_count": 6,
     "metadata": {},
     "output_type": "execute_result"
    }
   ],
   "source": [
    "network_df.head(10)"
   ]
  },
  {
   "cell_type": "code",
   "execution_count": 8,
   "id": "equipped-brisbane",
   "metadata": {
    "ExecuteTime": {
     "end_time": "2021-03-18T03:43:35.968159Z",
     "start_time": "2021-03-18T03:43:35.961161Z"
    }
   },
   "outputs": [],
   "source": [
    "network_df.rename(columns={'Source': 'source', 'Sourceid': 'source_id', 'Target': 'target',\n",
    "                          'Targetid': 'target_id'}, inplace=True)"
   ]
  },
  {
   "cell_type": "code",
   "execution_count": 9,
   "id": "national-natural",
   "metadata": {
    "ExecuteTime": {
     "end_time": "2021-03-18T03:43:46.481332Z",
     "start_time": "2021-03-18T03:43:46.460332Z"
    }
   },
   "outputs": [
    {
     "name": "stdout",
     "output_type": "stream",
     "text": [
      "<class 'pandas.core.frame.DataFrame'>\n",
      "RangeIndex: 5816 entries, 0 to 5815\n",
      "Data columns (total 5 columns):\n",
      " #   Column           Non-Null Count  Dtype \n",
      "---  ------           --------------  ----- \n",
      " 0   source           5816 non-null   object\n",
      " 1   source_id        5816 non-null   int64 \n",
      " 2   target           5816 non-null   object\n",
      " 3   target_id        5816 non-null   int64 \n",
      " 4   type_of_content  5816 non-null   object\n",
      "dtypes: int64(2), object(3)\n",
      "memory usage: 227.3+ KB\n"
     ]
    }
   ],
   "source": [
    "network_df.info()"
   ]
  },
  {
   "cell_type": "code",
   "execution_count": 10,
   "id": "productive-sitting",
   "metadata": {
    "ExecuteTime": {
     "end_time": "2021-03-18T04:01:15.934129Z",
     "start_time": "2021-03-18T04:01:15.927127Z"
    }
   },
   "outputs": [
    {
     "data": {
      "text/plain": [
       "Retweet    4475\n",
       "Tweet       905\n",
       "Mention     353\n",
       "Reply        83\n",
       "Name: type_of_content, dtype: int64"
      ]
     },
     "execution_count": 10,
     "metadata": {},
     "output_type": "execute_result"
    }
   ],
   "source": [
    "network_df['type_of_content'].value_counts()"
   ]
  },
  {
   "cell_type": "code",
   "execution_count": 11,
   "id": "sticky-princess",
   "metadata": {
    "ExecuteTime": {
     "end_time": "2021-03-18T04:03:34.977593Z",
     "start_time": "2021-03-18T04:03:34.972591Z"
    }
   },
   "outputs": [],
   "source": [
    "network_df['type_of_content'].replace(['Retweet', 'Mention', 'Reply'], 'Non-Tweet', inplace=True)"
   ]
  },
  {
   "cell_type": "code",
   "execution_count": 12,
   "id": "portuguese-parcel",
   "metadata": {
    "ExecuteTime": {
     "end_time": "2021-03-18T04:03:39.261677Z",
     "start_time": "2021-03-18T04:03:39.255679Z"
    }
   },
   "outputs": [
    {
     "data": {
      "text/plain": [
       "Non-Tweet    4911\n",
       "Tweet         905\n",
       "Name: type_of_content, dtype: int64"
      ]
     },
     "execution_count": 12,
     "metadata": {},
     "output_type": "execute_result"
    }
   ],
   "source": [
    "network_df['type_of_content'].value_counts()"
   ]
  },
  {
   "cell_type": "code",
   "execution_count": 14,
   "id": "interested-season",
   "metadata": {
    "ExecuteTime": {
     "end_time": "2021-03-18T04:06:46.067359Z",
     "start_time": "2021-03-18T04:06:46.046389Z"
    }
   },
   "outputs": [
    {
     "data": {
      "text/html": [
       "<div>\n",
       "<style scoped>\n",
       "    .dataframe tbody tr th:only-of-type {\n",
       "        vertical-align: middle;\n",
       "    }\n",
       "\n",
       "    .dataframe tbody tr th {\n",
       "        vertical-align: top;\n",
       "    }\n",
       "\n",
       "    .dataframe thead th {\n",
       "        text-align: right;\n",
       "    }\n",
       "</style>\n",
       "<table border=\"1\" class=\"dataframe\">\n",
       "  <thead>\n",
       "    <tr style=\"text-align: right;\">\n",
       "      <th></th>\n",
       "      <th>source</th>\n",
       "      <th>source_id</th>\n",
       "      <th>target</th>\n",
       "      <th>target_id</th>\n",
       "      <th>type_of_content</th>\n",
       "    </tr>\n",
       "  </thead>\n",
       "  <tbody>\n",
       "    <tr>\n",
       "      <th>0</th>\n",
       "      <td>ArijitFan1</td>\n",
       "      <td>1355121831372615683</td>\n",
       "      <td>ArijitFan1</td>\n",
       "      <td>1355121831372615683</td>\n",
       "      <td>Tweet</td>\n",
       "    </tr>\n",
       "    <tr>\n",
       "      <th>1</th>\n",
       "      <td>USMNTCORNER</td>\n",
       "      <td>1172274702049583105</td>\n",
       "      <td>USMNTCORNER</td>\n",
       "      <td>1172274702049583105</td>\n",
       "      <td>Tweet</td>\n",
       "    </tr>\n",
       "    <tr>\n",
       "      <th>2</th>\n",
       "      <td>ber2reh</td>\n",
       "      <td>1207348737258987520</td>\n",
       "      <td>Benzema</td>\n",
       "      <td>1964571728</td>\n",
       "      <td>Non-Tweet</td>\n",
       "    </tr>\n",
       "    <tr>\n",
       "      <th>3</th>\n",
       "      <td>KB9_GOAT</td>\n",
       "      <td>1339101169042518017</td>\n",
       "      <td>Benzema</td>\n",
       "      <td>1964571728</td>\n",
       "      <td>Non-Tweet</td>\n",
       "    </tr>\n",
       "    <tr>\n",
       "      <th>4</th>\n",
       "      <td>HfutbolW</td>\n",
       "      <td>1274615075723268097</td>\n",
       "      <td>HfutbolW</td>\n",
       "      <td>1274615075723268097</td>\n",
       "      <td>Tweet</td>\n",
       "    </tr>\n",
       "    <tr>\n",
       "      <th>5</th>\n",
       "      <td>miles__69</td>\n",
       "      <td>1181660258118389760</td>\n",
       "      <td>Royaltycfc</td>\n",
       "      <td>1050069385094811648</td>\n",
       "      <td>Non-Tweet</td>\n",
       "    </tr>\n",
       "    <tr>\n",
       "      <th>6</th>\n",
       "      <td>JudyLazo</td>\n",
       "      <td>410740338</td>\n",
       "      <td>nclarkrd</td>\n",
       "      <td>103933553</td>\n",
       "      <td>Non-Tweet</td>\n",
       "    </tr>\n",
       "    <tr>\n",
       "      <th>7</th>\n",
       "      <td>BanglaMostbet</td>\n",
       "      <td>1287653327082315777</td>\n",
       "      <td>BanglaMostbet</td>\n",
       "      <td>1287653327082315777</td>\n",
       "      <td>Tweet</td>\n",
       "    </tr>\n",
       "    <tr>\n",
       "      <th>8</th>\n",
       "      <td>FootAggregator</td>\n",
       "      <td>1204015945422909445</td>\n",
       "      <td>Genting_Bet</td>\n",
       "      <td>4201010939</td>\n",
       "      <td>Non-Tweet</td>\n",
       "    </tr>\n",
       "    <tr>\n",
       "      <th>9</th>\n",
       "      <td>FootAggregator</td>\n",
       "      <td>1204015945422909445</td>\n",
       "      <td>GuillemBalague</td>\n",
       "      <td>26759984</td>\n",
       "      <td>Non-Tweet</td>\n",
       "    </tr>\n",
       "  </tbody>\n",
       "</table>\n",
       "</div>"
      ],
      "text/plain": [
       "           source            source_id          target            target_id  \\\n",
       "0      ArijitFan1  1355121831372615683      ArijitFan1  1355121831372615683   \n",
       "1     USMNTCORNER  1172274702049583105     USMNTCORNER  1172274702049583105   \n",
       "2         ber2reh  1207348737258987520         Benzema           1964571728   \n",
       "3        KB9_GOAT  1339101169042518017         Benzema           1964571728   \n",
       "4        HfutbolW  1274615075723268097        HfutbolW  1274615075723268097   \n",
       "5       miles__69  1181660258118389760      Royaltycfc  1050069385094811648   \n",
       "6        JudyLazo            410740338        nclarkrd            103933553   \n",
       "7   BanglaMostbet  1287653327082315777   BanglaMostbet  1287653327082315777   \n",
       "8  FootAggregator  1204015945422909445     Genting_Bet           4201010939   \n",
       "9  FootAggregator  1204015945422909445  GuillemBalague             26759984   \n",
       "\n",
       "  type_of_content  \n",
       "0           Tweet  \n",
       "1           Tweet  \n",
       "2       Non-Tweet  \n",
       "3       Non-Tweet  \n",
       "4           Tweet  \n",
       "5       Non-Tweet  \n",
       "6       Non-Tweet  \n",
       "7           Tweet  \n",
       "8       Non-Tweet  \n",
       "9       Non-Tweet  "
      ]
     },
     "execution_count": 14,
     "metadata": {},
     "output_type": "execute_result"
    }
   ],
   "source": [
    "network_df.head(10)"
   ]
  },
  {
   "cell_type": "code",
   "execution_count": 32,
   "id": "mature-checkout",
   "metadata": {
    "ExecuteTime": {
     "end_time": "2021-03-18T04:29:42.892772Z",
     "start_time": "2021-03-18T04:29:42.883773Z"
    }
   },
   "outputs": [],
   "source": [
    "non_tweet_df = network_df[network_df['type_of_content'] == 'Non-Tweet']\n",
    "tweet_df = network_df[network_df['type_of_content'] == 'Tweet']"
   ]
  },
  {
   "cell_type": "code",
   "execution_count": null,
   "id": "generous-assessment",
   "metadata": {},
   "outputs": [],
   "source": [
    "# Calculate number of tweets"
   ]
  },
  {
   "cell_type": "markdown",
   "id": "featured-rwanda",
   "metadata": {},
   "source": [
    "# Graph"
   ]
  },
  {
   "cell_type": "code",
   "execution_count": 19,
   "id": "documentary-investigator",
   "metadata": {
    "ExecuteTime": {
     "end_time": "2021-03-18T04:11:42.373182Z",
     "start_time": "2021-03-18T04:11:42.347182Z"
    }
   },
   "outputs": [
    {
     "data": {
      "text/plain": [
       "<networkx.classes.digraph.DiGraph at 0x253cd17c488>"
      ]
     },
     "execution_count": 19,
     "metadata": {},
     "output_type": "execute_result"
    }
   ],
   "source": [
    "G = nx.DiGraph()\n",
    "\n",
    "edges = list()\n",
    "for (a,b) in zip(non_tweet_df['source'], non_tweet_df['target']):\n",
    "    edges.append((a,b))\n",
    "\n",
    "G.add_edges_from(edges)\n",
    "G"
   ]
  },
  {
   "cell_type": "code",
   "execution_count": 20,
   "id": "small-lawyer",
   "metadata": {
    "ExecuteTime": {
     "end_time": "2021-03-18T04:13:15.583376Z",
     "start_time": "2021-03-18T04:12:06.859477Z"
    }
   },
   "outputs": [
    {
     "data": {
      "image/png": "[encoded data removed]",
      "text/plain": [
       "<Figure size 432x288 with 1 Axes>"
      ]
     },
     "metadata": {},
     "output_type": "display_data"
    }
   ],
   "source": [
    "nx.draw(G)"
   ]
  },
  {
   "cell_type": "code",
   "execution_count": 22,
   "id": "residential-register",
   "metadata": {
    "ExecuteTime": {
     "end_time": "2021-03-18T04:16:02.307718Z",
     "start_time": "2021-03-18T04:16:02.283748Z"
    }
   },
   "outputs": [
    {
     "data": {
      "text/html": [
       "<div>\n",
       "<style scoped>\n",
       "    .dataframe tbody tr th:only-of-type {\n",
       "        vertical-align: middle;\n",
       "    }\n",
       "\n",
       "    .dataframe tbody tr th {\n",
       "        vertical-align: top;\n",
       "    }\n",
       "\n",
       "    .dataframe thead th {\n",
       "        text-align: right;\n",
       "    }\n",
       "</style>\n",
       "<table border=\"1\" class=\"dataframe\">\n",
       "  <thead>\n",
       "    <tr style=\"text-align: right;\">\n",
       "      <th></th>\n",
       "      <th>index</th>\n",
       "      <th>0</th>\n",
       "    </tr>\n",
       "  </thead>\n",
       "  <tbody>\n",
       "    <tr>\n",
       "      <th>0</th>\n",
       "      <td>ber2reh</td>\n",
       "      <td>0.000232</td>\n",
       "    </tr>\n",
       "    <tr>\n",
       "      <th>1</th>\n",
       "      <td>Benzema</td>\n",
       "      <td>0.641746</td>\n",
       "    </tr>\n",
       "    <tr>\n",
       "      <th>2</th>\n",
       "      <td>KB9_GOAT</td>\n",
       "      <td>0.000232</td>\n",
       "    </tr>\n",
       "    <tr>\n",
       "      <th>3</th>\n",
       "      <td>miles__69</td>\n",
       "      <td>0.000232</td>\n",
       "    </tr>\n",
       "    <tr>\n",
       "      <th>4</th>\n",
       "      <td>Royaltycfc</td>\n",
       "      <td>0.009984</td>\n",
       "    </tr>\n",
       "    <tr>\n",
       "      <th>...</th>\n",
       "      <td>...</td>\n",
       "      <td>...</td>\n",
       "    </tr>\n",
       "    <tr>\n",
       "      <th>4303</th>\n",
       "      <td>Sidneyyyyy__</td>\n",
       "      <td>0.000232</td>\n",
       "    </tr>\n",
       "    <tr>\n",
       "      <th>4304</th>\n",
       "      <td>adityatrd</td>\n",
       "      <td>0.000232</td>\n",
       "    </tr>\n",
       "    <tr>\n",
       "      <th>4305</th>\n",
       "      <td>santiagos83</td>\n",
       "      <td>0.000232</td>\n",
       "    </tr>\n",
       "    <tr>\n",
       "      <th>4306</th>\n",
       "      <td>brtop7</td>\n",
       "      <td>0.000232</td>\n",
       "    </tr>\n",
       "    <tr>\n",
       "      <th>4307</th>\n",
       "      <td>Ktk05987492</td>\n",
       "      <td>0.000232</td>\n",
       "    </tr>\n",
       "  </tbody>\n",
       "</table>\n",
       "<p>4308 rows × 2 columns</p>\n",
       "</div>"
      ],
      "text/plain": [
       "             index         0\n",
       "0          ber2reh  0.000232\n",
       "1          Benzema  0.641746\n",
       "2         KB9_GOAT  0.000232\n",
       "3        miles__69  0.000232\n",
       "4       Royaltycfc  0.009984\n",
       "...            ...       ...\n",
       "4303  Sidneyyyyy__  0.000232\n",
       "4304     adityatrd  0.000232\n",
       "4305   santiagos83  0.000232\n",
       "4306        brtop7  0.000232\n",
       "4307   Ktk05987492  0.000232\n",
       "\n",
       "[4308 rows x 2 columns]"
      ]
     },
     "execution_count": 22,
     "metadata": {},
     "output_type": "execute_result"
    }
   ],
   "source": [
    "degree_centrality=pd.DataFrame.from_dict(nx.degree_centrality(G), orient='index').reset_index()\n",
    "degree_centrality"
   ]
  },
  {
   "cell_type": "code",
   "execution_count": 21,
   "id": "seasonal-relief",
   "metadata": {
    "ExecuteTime": {
     "end_time": "2021-03-18T04:14:24.880533Z",
     "start_time": "2021-03-18T04:14:24.475407Z"
    }
   },
   "outputs": [
    {
     "data": {
      "text/html": [
       "<div>\n",
       "<style scoped>\n",
       "    .dataframe tbody tr th:only-of-type {\n",
       "        vertical-align: middle;\n",
       "    }\n",
       "\n",
       "    .dataframe tbody tr th {\n",
       "        vertical-align: top;\n",
       "    }\n",
       "\n",
       "    .dataframe thead th {\n",
       "        text-align: right;\n",
       "    }\n",
       "</style>\n",
       "<table border=\"1\" class=\"dataframe\">\n",
       "  <thead>\n",
       "    <tr style=\"text-align: right;\">\n",
       "      <th></th>\n",
       "      <th>index</th>\n",
       "      <th>0</th>\n",
       "    </tr>\n",
       "  </thead>\n",
       "  <tbody>\n",
       "    <tr>\n",
       "      <th>0</th>\n",
       "      <td>ber2reh</td>\n",
       "      <td>0.000000</td>\n",
       "    </tr>\n",
       "    <tr>\n",
       "      <th>1</th>\n",
       "      <td>Benzema</td>\n",
       "      <td>0.641746</td>\n",
       "    </tr>\n",
       "    <tr>\n",
       "      <th>2</th>\n",
       "      <td>KB9_GOAT</td>\n",
       "      <td>0.000000</td>\n",
       "    </tr>\n",
       "    <tr>\n",
       "      <th>3</th>\n",
       "      <td>miles__69</td>\n",
       "      <td>0.000000</td>\n",
       "    </tr>\n",
       "    <tr>\n",
       "      <th>4</th>\n",
       "      <td>Royaltycfc</td>\n",
       "      <td>0.009519</td>\n",
       "    </tr>\n",
       "    <tr>\n",
       "      <th>...</th>\n",
       "      <td>...</td>\n",
       "      <td>...</td>\n",
       "    </tr>\n",
       "    <tr>\n",
       "      <th>4303</th>\n",
       "      <td>Sidneyyyyy__</td>\n",
       "      <td>0.000000</td>\n",
       "    </tr>\n",
       "    <tr>\n",
       "      <th>4304</th>\n",
       "      <td>adityatrd</td>\n",
       "      <td>0.000000</td>\n",
       "    </tr>\n",
       "    <tr>\n",
       "      <th>4305</th>\n",
       "      <td>santiagos83</td>\n",
       "      <td>0.000000</td>\n",
       "    </tr>\n",
       "    <tr>\n",
       "      <th>4306</th>\n",
       "      <td>brtop7</td>\n",
       "      <td>0.000000</td>\n",
       "    </tr>\n",
       "    <tr>\n",
       "      <th>4307</th>\n",
       "      <td>Ktk05987492</td>\n",
       "      <td>0.000000</td>\n",
       "    </tr>\n",
       "  </tbody>\n",
       "</table>\n",
       "<p>4308 rows × 2 columns</p>\n",
       "</div>"
      ],
      "text/plain": [
       "             index         0\n",
       "0          ber2reh  0.000000\n",
       "1          Benzema  0.641746\n",
       "2         KB9_GOAT  0.000000\n",
       "3        miles__69  0.000000\n",
       "4       Royaltycfc  0.009519\n",
       "...            ...       ...\n",
       "4303  Sidneyyyyy__  0.000000\n",
       "4304     adityatrd  0.000000\n",
       "4305   santiagos83  0.000000\n",
       "4306        brtop7  0.000000\n",
       "4307   Ktk05987492  0.000000\n",
       "\n",
       "[4308 rows x 2 columns]"
      ]
     },
     "execution_count": 21,
     "metadata": {},
     "output_type": "execute_result"
    }
   ],
   "source": [
    "closeness_centrality=pd.DataFrame.from_dict(nx.closeness_centrality(G), orient='index').reset_index()\n",
    "closeness_centrality"
   ]
  },
  {
   "cell_type": "code",
   "execution_count": 23,
   "id": "assisted-kingston",
   "metadata": {
    "ExecuteTime": {
     "end_time": "2021-03-18T04:17:09.258278Z",
     "start_time": "2021-03-18T04:16:49.133901Z"
    }
   },
   "outputs": [
    {
     "data": {
      "text/html": [
       "<div>\n",
       "<style scoped>\n",
       "    .dataframe tbody tr th:only-of-type {\n",
       "        vertical-align: middle;\n",
       "    }\n",
       "\n",
       "    .dataframe tbody tr th {\n",
       "        vertical-align: top;\n",
       "    }\n",
       "\n",
       "    .dataframe thead th {\n",
       "        text-align: right;\n",
       "    }\n",
       "</style>\n",
       "<table border=\"1\" class=\"dataframe\">\n",
       "  <thead>\n",
       "    <tr style=\"text-align: right;\">\n",
       "      <th></th>\n",
       "      <th>index</th>\n",
       "      <th>0</th>\n",
       "    </tr>\n",
       "  </thead>\n",
       "  <tbody>\n",
       "    <tr>\n",
       "      <th>0</th>\n",
       "      <td>ber2reh</td>\n",
       "      <td>0.0</td>\n",
       "    </tr>\n",
       "    <tr>\n",
       "      <th>1</th>\n",
       "      <td>Benzema</td>\n",
       "      <td>0.0</td>\n",
       "    </tr>\n",
       "    <tr>\n",
       "      <th>2</th>\n",
       "      <td>KB9_GOAT</td>\n",
       "      <td>0.0</td>\n",
       "    </tr>\n",
       "    <tr>\n",
       "      <th>3</th>\n",
       "      <td>miles__69</td>\n",
       "      <td>0.0</td>\n",
       "    </tr>\n",
       "    <tr>\n",
       "      <th>4</th>\n",
       "      <td>Royaltycfc</td>\n",
       "      <td>0.0</td>\n",
       "    </tr>\n",
       "    <tr>\n",
       "      <th>...</th>\n",
       "      <td>...</td>\n",
       "      <td>...</td>\n",
       "    </tr>\n",
       "    <tr>\n",
       "      <th>4303</th>\n",
       "      <td>Sidneyyyyy__</td>\n",
       "      <td>0.0</td>\n",
       "    </tr>\n",
       "    <tr>\n",
       "      <th>4304</th>\n",
       "      <td>adityatrd</td>\n",
       "      <td>0.0</td>\n",
       "    </tr>\n",
       "    <tr>\n",
       "      <th>4305</th>\n",
       "      <td>santiagos83</td>\n",
       "      <td>0.0</td>\n",
       "    </tr>\n",
       "    <tr>\n",
       "      <th>4306</th>\n",
       "      <td>brtop7</td>\n",
       "      <td>0.0</td>\n",
       "    </tr>\n",
       "    <tr>\n",
       "      <th>4307</th>\n",
       "      <td>Ktk05987492</td>\n",
       "      <td>0.0</td>\n",
       "    </tr>\n",
       "  </tbody>\n",
       "</table>\n",
       "<p>4308 rows × 2 columns</p>\n",
       "</div>"
      ],
      "text/plain": [
       "             index    0\n",
       "0          ber2reh  0.0\n",
       "1          Benzema  0.0\n",
       "2         KB9_GOAT  0.0\n",
       "3        miles__69  0.0\n",
       "4       Royaltycfc  0.0\n",
       "...            ...  ...\n",
       "4303  Sidneyyyyy__  0.0\n",
       "4304     adityatrd  0.0\n",
       "4305   santiagos83  0.0\n",
       "4306        brtop7  0.0\n",
       "4307   Ktk05987492  0.0\n",
       "\n",
       "[4308 rows x 2 columns]"
      ]
     },
     "execution_count": 23,
     "metadata": {},
     "output_type": "execute_result"
    }
   ],
   "source": [
    "betweenness_centrality=pd.DataFrame.from_dict(nx.betweenness_centrality(G), orient='index').reset_index()\n",
    "betweenness_centrality"
   ]
  },
  {
   "cell_type": "code",
   "execution_count": 24,
   "id": "minute-affairs",
   "metadata": {
    "ExecuteTime": {
     "end_time": "2021-03-18T04:18:36.869706Z",
     "start_time": "2021-03-18T04:18:36.831685Z"
    }
   },
   "outputs": [
    {
     "data": {
      "text/html": [
       "<div>\n",
       "<style scoped>\n",
       "    .dataframe tbody tr th:only-of-type {\n",
       "        vertical-align: middle;\n",
       "    }\n",
       "\n",
       "    .dataframe tbody tr th {\n",
       "        vertical-align: top;\n",
       "    }\n",
       "\n",
       "    .dataframe thead th {\n",
       "        text-align: right;\n",
       "    }\n",
       "</style>\n",
       "<table border=\"1\" class=\"dataframe\">\n",
       "  <thead>\n",
       "    <tr style=\"text-align: right;\">\n",
       "      <th></th>\n",
       "      <th>index</th>\n",
       "      <th>0_x</th>\n",
       "      <th>0_y</th>\n",
       "      <th>0</th>\n",
       "    </tr>\n",
       "  </thead>\n",
       "  <tbody>\n",
       "    <tr>\n",
       "      <th>0</th>\n",
       "      <td>ber2reh</td>\n",
       "      <td>0.000232</td>\n",
       "      <td>0.000000</td>\n",
       "      <td>0.0</td>\n",
       "    </tr>\n",
       "    <tr>\n",
       "      <th>1</th>\n",
       "      <td>Benzema</td>\n",
       "      <td>0.641746</td>\n",
       "      <td>0.641746</td>\n",
       "      <td>0.0</td>\n",
       "    </tr>\n",
       "    <tr>\n",
       "      <th>2</th>\n",
       "      <td>KB9_GOAT</td>\n",
       "      <td>0.000232</td>\n",
       "      <td>0.000000</td>\n",
       "      <td>0.0</td>\n",
       "    </tr>\n",
       "    <tr>\n",
       "      <th>3</th>\n",
       "      <td>miles__69</td>\n",
       "      <td>0.000232</td>\n",
       "      <td>0.000000</td>\n",
       "      <td>0.0</td>\n",
       "    </tr>\n",
       "    <tr>\n",
       "      <th>4</th>\n",
       "      <td>Royaltycfc</td>\n",
       "      <td>0.009984</td>\n",
       "      <td>0.009519</td>\n",
       "      <td>0.0</td>\n",
       "    </tr>\n",
       "    <tr>\n",
       "      <th>...</th>\n",
       "      <td>...</td>\n",
       "      <td>...</td>\n",
       "      <td>...</td>\n",
       "      <td>...</td>\n",
       "    </tr>\n",
       "    <tr>\n",
       "      <th>4303</th>\n",
       "      <td>Sidneyyyyy__</td>\n",
       "      <td>0.000232</td>\n",
       "      <td>0.000000</td>\n",
       "      <td>0.0</td>\n",
       "    </tr>\n",
       "    <tr>\n",
       "      <th>4304</th>\n",
       "      <td>adityatrd</td>\n",
       "      <td>0.000232</td>\n",
       "      <td>0.000000</td>\n",
       "      <td>0.0</td>\n",
       "    </tr>\n",
       "    <tr>\n",
       "      <th>4305</th>\n",
       "      <td>santiagos83</td>\n",
       "      <td>0.000232</td>\n",
       "      <td>0.000000</td>\n",
       "      <td>0.0</td>\n",
       "    </tr>\n",
       "    <tr>\n",
       "      <th>4306</th>\n",
       "      <td>brtop7</td>\n",
       "      <td>0.000232</td>\n",
       "      <td>0.000000</td>\n",
       "      <td>0.0</td>\n",
       "    </tr>\n",
       "    <tr>\n",
       "      <th>4307</th>\n",
       "      <td>Ktk05987492</td>\n",
       "      <td>0.000232</td>\n",
       "      <td>0.000000</td>\n",
       "      <td>0.0</td>\n",
       "    </tr>\n",
       "  </tbody>\n",
       "</table>\n",
       "<p>4308 rows × 4 columns</p>\n",
       "</div>"
      ],
      "text/plain": [
       "             index       0_x       0_y    0\n",
       "0          ber2reh  0.000232  0.000000  0.0\n",
       "1          Benzema  0.641746  0.641746  0.0\n",
       "2         KB9_GOAT  0.000232  0.000000  0.0\n",
       "3        miles__69  0.000232  0.000000  0.0\n",
       "4       Royaltycfc  0.009984  0.009519  0.0\n",
       "...            ...       ...       ...  ...\n",
       "4303  Sidneyyyyy__  0.000232  0.000000  0.0\n",
       "4304     adityatrd  0.000232  0.000000  0.0\n",
       "4305   santiagos83  0.000232  0.000000  0.0\n",
       "4306        brtop7  0.000232  0.000000  0.0\n",
       "4307   Ktk05987492  0.000232  0.000000  0.0\n",
       "\n",
       "[4308 rows x 4 columns]"
      ]
     },
     "execution_count": 24,
     "metadata": {},
     "output_type": "execute_result"
    }
   ],
   "source": [
    "network_measures = degree_centrality.merge(closeness_centrality, on='index').merge(betweenness_centrality, on='index')\n",
    "network_measures"
   ]
  },
  {
   "cell_type": "code",
   "execution_count": 28,
   "id": "limiting-condition",
   "metadata": {
    "ExecuteTime": {
     "end_time": "2021-03-18T04:22:21.327500Z",
     "start_time": "2021-03-18T04:22:21.324500Z"
    }
   },
   "outputs": [],
   "source": [
    "network_measures.columns = ['user', 'degree', 'closeness', 'betweenness']"
   ]
  },
  {
   "cell_type": "code",
   "execution_count": 30,
   "id": "metallic-fever",
   "metadata": {
    "ExecuteTime": {
     "end_time": "2021-03-18T04:22:27.716499Z",
     "start_time": "2021-03-18T04:22:27.686505Z"
    }
   },
   "outputs": [
    {
     "data": {
      "text/html": [
       "<div>\n",
       "<style scoped>\n",
       "    .dataframe tbody tr th:only-of-type {\n",
       "        vertical-align: middle;\n",
       "    }\n",
       "\n",
       "    .dataframe tbody tr th {\n",
       "        vertical-align: top;\n",
       "    }\n",
       "\n",
       "    .dataframe thead th {\n",
       "        text-align: right;\n",
       "    }\n",
       "</style>\n",
       "<table border=\"1\" class=\"dataframe\">\n",
       "  <thead>\n",
       "    <tr style=\"text-align: right;\">\n",
       "      <th></th>\n",
       "      <th>user</th>\n",
       "      <th>degree</th>\n",
       "      <th>closeness</th>\n",
       "      <th>betweenness</th>\n",
       "      <th>listed</th>\n",
       "      <th>followers</th>\n",
       "    </tr>\n",
       "  </thead>\n",
       "  <tbody>\n",
       "    <tr>\n",
       "      <th>0</th>\n",
       "      <td>ber2reh</td>\n",
       "      <td>0.000232</td>\n",
       "      <td>0.000000</td>\n",
       "      <td>0.0</td>\n",
       "      <td>0</td>\n",
       "      <td>41</td>\n",
       "    </tr>\n",
       "    <tr>\n",
       "      <th>1</th>\n",
       "      <td>Benzema</td>\n",
       "      <td>0.641746</td>\n",
       "      <td>0.641746</td>\n",
       "      <td>0.0</td>\n",
       "      <td>5247</td>\n",
       "      <td>12130878</td>\n",
       "    </tr>\n",
       "    <tr>\n",
       "      <th>2</th>\n",
       "      <td>KB9_GOAT</td>\n",
       "      <td>0.000232</td>\n",
       "      <td>0.000000</td>\n",
       "      <td>0.0</td>\n",
       "      <td>0</td>\n",
       "      <td>3</td>\n",
       "    </tr>\n",
       "    <tr>\n",
       "      <th>3</th>\n",
       "      <td>miles__69</td>\n",
       "      <td>0.000232</td>\n",
       "      <td>0.000000</td>\n",
       "      <td>0.0</td>\n",
       "      <td>0</td>\n",
       "      <td>4879</td>\n",
       "    </tr>\n",
       "    <tr>\n",
       "      <th>4</th>\n",
       "      <td>Royaltycfc</td>\n",
       "      <td>0.009984</td>\n",
       "      <td>0.009519</td>\n",
       "      <td>0.0</td>\n",
       "      <td>6</td>\n",
       "      <td>4623</td>\n",
       "    </tr>\n",
       "    <tr>\n",
       "      <th>...</th>\n",
       "      <td>...</td>\n",
       "      <td>...</td>\n",
       "      <td>...</td>\n",
       "      <td>...</td>\n",
       "      <td>...</td>\n",
       "      <td>...</td>\n",
       "    </tr>\n",
       "    <tr>\n",
       "      <th>4302</th>\n",
       "      <td>Sidneyyyyy__</td>\n",
       "      <td>0.000232</td>\n",
       "      <td>0.000000</td>\n",
       "      <td>0.0</td>\n",
       "      <td>0</td>\n",
       "      <td>78</td>\n",
       "    </tr>\n",
       "    <tr>\n",
       "      <th>4303</th>\n",
       "      <td>adityatrd</td>\n",
       "      <td>0.000232</td>\n",
       "      <td>0.000000</td>\n",
       "      <td>0.0</td>\n",
       "      <td>4</td>\n",
       "      <td>513</td>\n",
       "    </tr>\n",
       "    <tr>\n",
       "      <th>4304</th>\n",
       "      <td>santiagos83</td>\n",
       "      <td>0.000232</td>\n",
       "      <td>0.000000</td>\n",
       "      <td>0.0</td>\n",
       "      <td>10</td>\n",
       "      <td>882</td>\n",
       "    </tr>\n",
       "    <tr>\n",
       "      <th>4305</th>\n",
       "      <td>brtop7</td>\n",
       "      <td>0.000232</td>\n",
       "      <td>0.000000</td>\n",
       "      <td>0.0</td>\n",
       "      <td>1</td>\n",
       "      <td>76</td>\n",
       "    </tr>\n",
       "    <tr>\n",
       "      <th>4306</th>\n",
       "      <td>Ktk05987492</td>\n",
       "      <td>0.000232</td>\n",
       "      <td>0.000000</td>\n",
       "      <td>0.0</td>\n",
       "      <td>0</td>\n",
       "      <td>126</td>\n",
       "    </tr>\n",
       "  </tbody>\n",
       "</table>\n",
       "<p>4307 rows × 6 columns</p>\n",
       "</div>"
      ],
      "text/plain": [
       "              user    degree  closeness  betweenness  listed  followers\n",
       "0          ber2reh  0.000232   0.000000          0.0       0         41\n",
       "1          Benzema  0.641746   0.641746          0.0    5247   12130878\n",
       "2         KB9_GOAT  0.000232   0.000000          0.0       0          3\n",
       "3        miles__69  0.000232   0.000000          0.0       0       4879\n",
       "4       Royaltycfc  0.009984   0.009519          0.0       6       4623\n",
       "...            ...       ...        ...          ...     ...        ...\n",
       "4302  Sidneyyyyy__  0.000232   0.000000          0.0       0         78\n",
       "4303     adityatrd  0.000232   0.000000          0.0       4        513\n",
       "4304   santiagos83  0.000232   0.000000          0.0      10        882\n",
       "4305        brtop7  0.000232   0.000000          0.0       1         76\n",
       "4306   Ktk05987492  0.000232   0.000000          0.0       0        126\n",
       "\n",
       "[4307 rows x 6 columns]"
      ]
     },
     "execution_count": 30,
     "metadata": {},
     "output_type": "execute_result"
    }
   ],
   "source": [
    "network_measures = network_measures.merge(users_df, on='user')\n",
    "network_measures"
   ]
  },
  {
   "cell_type": "code",
   "execution_count": 31,
   "id": "hairy-hamilton",
   "metadata": {
    "ExecuteTime": {
     "end_time": "2021-03-18T04:22:32.421106Z",
     "start_time": "2021-03-18T04:22:32.396110Z"
    }
   },
   "outputs": [
    {
     "name": "stdout",
     "output_type": "stream",
     "text": [
      "<class 'pandas.core.frame.DataFrame'>\n",
      "Int64Index: 4307 entries, 0 to 4306\n",
      "Data columns (total 6 columns):\n",
      " #   Column       Non-Null Count  Dtype  \n",
      "---  ------       --------------  -----  \n",
      " 0   user         4307 non-null   object \n",
      " 1   degree       4307 non-null   float64\n",
      " 2   closeness    4307 non-null   float64\n",
      " 3   betweenness  4307 non-null   float64\n",
      " 4   listed       4307 non-null   int64  \n",
      " 5   followers    4307 non-null   int64  \n",
      "dtypes: float64(3), int64(2), object(1)\n",
      "memory usage: 235.5+ KB\n"
     ]
    }
   ],
   "source": [
    "network_measures.info()"
   ]
  }
 ],
 "metadata": {
  "hide_input": false,
  "kernelspec": {
   "display_name": "Python 3",
   "language": "python",
   "name": "python3"
  },
  "language_info": {
   "codemirror_mode": {
    "name": "ipython",
    "version": 3
   },
   "file_extension": ".py",
   "mimetype": "text/x-python",
   "name": "python",
   "nbconvert_exporter": "python",
   "pygments_lexer": "ipython3",
   "version": "3.7.7"
  },
  "toc": {
   "base_numbering": 1,
   "nav_menu": {},
   "number_sections": true,
   "sideBar": true,
   "skip_h1_title": false,
   "title_cell": "Table of Contents",
   "title_sidebar": "Contents",
   "toc_cell": false,
   "toc_position": {},
   "toc_section_display": true,
   "toc_window_display": false
  },
  "varInspector": {
   "cols": {
    "lenName": 16,
    "lenType": 16,
    "lenVar": 40
   },
   "kernels_config": {
    "python": {
     "delete_cmd_postfix": "",
     "delete_cmd_prefix": "del ",
     "library": "var_list.py",
     "varRefreshCmd": "print(var_dic_list())"
    },
    "r": {
     "delete_cmd_postfix": ") ",
     "delete_cmd_prefix": "rm(",
     "library": "var_list.r",
     "varRefreshCmd": "cat(var_dic_list()) "
    }
   },
   "types_to_exclude": [
    "module",
    "function",
    "builtin_function_or_method",
    "instance",
    "_Feature"
   ],
   "window_display": false
  }
 },
 "nbformat": 4,
 "nbformat_minor": 5
}
